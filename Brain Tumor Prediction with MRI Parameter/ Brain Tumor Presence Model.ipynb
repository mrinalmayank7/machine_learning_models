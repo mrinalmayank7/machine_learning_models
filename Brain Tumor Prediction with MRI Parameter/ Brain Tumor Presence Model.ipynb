{
 "cells": [
  {
   "cell_type": "code",
   "execution_count": 1,
   "id": "b6e109d1",
   "metadata": {},
   "outputs": [],
   "source": [
    "import numpy as np\n",
    "import pandas as pd\n",
    "import matplotlib.pyplot as plt\n",
    "import seaborn as sns\n",
    "from sklearn.model_selection import train_test_split\n",
    "from sklearn.metrics import accuracy_score\n",
    "import joblib\n",
    "from sklearn import metrics"
   ]
  },
  {
   "cell_type": "code",
   "execution_count": 2,
   "id": "816daeb3",
   "metadata": {},
   "outputs": [
    {
     "data": {
      "text/html": [
       "<div>\n",
       "<style scoped>\n",
       "    .dataframe tbody tr th:only-of-type {\n",
       "        vertical-align: middle;\n",
       "    }\n",
       "\n",
       "    .dataframe tbody tr th {\n",
       "        vertical-align: top;\n",
       "    }\n",
       "\n",
       "    .dataframe thead th {\n",
       "        text-align: right;\n",
       "    }\n",
       "</style>\n",
       "<table border=\"1\" class=\"dataframe\">\n",
       "  <thead>\n",
       "    <tr style=\"text-align: right;\">\n",
       "      <th></th>\n",
       "      <th>Mean</th>\n",
       "      <th>Variance</th>\n",
       "      <th>Standard Deviation</th>\n",
       "      <th>Entropy</th>\n",
       "      <th>Skewness</th>\n",
       "      <th>Kurtosis</th>\n",
       "      <th>Contrast</th>\n",
       "      <th>Energy</th>\n",
       "      <th>ASM</th>\n",
       "      <th>Homogeneity</th>\n",
       "      <th>Dissimilarity</th>\n",
       "      <th>Correlation</th>\n",
       "      <th>Coarseness</th>\n",
       "      <th>PSNR</th>\n",
       "      <th>SSIM</th>\n",
       "      <th>MSE</th>\n",
       "      <th>DC</th>\n",
       "      <th>Target</th>\n",
       "    </tr>\n",
       "  </thead>\n",
       "  <tbody>\n",
       "    <tr>\n",
       "      <th>0</th>\n",
       "      <td>23.448517</td>\n",
       "      <td>2538.985627</td>\n",
       "      <td>50.388348</td>\n",
       "      <td>0.651174</td>\n",
       "      <td>1.984202</td>\n",
       "      <td>5.421042</td>\n",
       "      <td>181.467713</td>\n",
       "      <td>0.781557</td>\n",
       "      <td>0.610831</td>\n",
       "      <td>0.847033</td>\n",
       "      <td>2.765411</td>\n",
       "      <td>0.968576</td>\n",
       "      <td>7.460000e-155</td>\n",
       "      <td>97.974630</td>\n",
       "      <td>0.777011</td>\n",
       "      <td>0.171163</td>\n",
       "      <td>0.303989</td>\n",
       "      <td>1</td>\n",
       "    </tr>\n",
       "    <tr>\n",
       "      <th>1</th>\n",
       "      <td>4.398331</td>\n",
       "      <td>834.853030</td>\n",
       "      <td>28.893823</td>\n",
       "      <td>0.953532</td>\n",
       "      <td>6.495203</td>\n",
       "      <td>43.349355</td>\n",
       "      <td>76.745886</td>\n",
       "      <td>0.972770</td>\n",
       "      <td>0.946281</td>\n",
       "      <td>0.980762</td>\n",
       "      <td>0.548605</td>\n",
       "      <td>0.959751</td>\n",
       "      <td>7.460000e-155</td>\n",
       "      <td>110.346597</td>\n",
       "      <td>0.977953</td>\n",
       "      <td>0.009913</td>\n",
       "      <td>0.839019</td>\n",
       "      <td>1</td>\n",
       "    </tr>\n",
       "    <tr>\n",
       "      <th>2</th>\n",
       "      <td>3.244263</td>\n",
       "      <td>642.059166</td>\n",
       "      <td>25.338886</td>\n",
       "      <td>0.966065</td>\n",
       "      <td>7.772860</td>\n",
       "      <td>61.756034</td>\n",
       "      <td>81.752406</td>\n",
       "      <td>0.980161</td>\n",
       "      <td>0.960715</td>\n",
       "      <td>0.985066</td>\n",
       "      <td>0.540411</td>\n",
       "      <td>0.944259</td>\n",
       "      <td>7.460000e-155</td>\n",
       "      <td>112.266298</td>\n",
       "      <td>0.985362</td>\n",
       "      <td>0.006372</td>\n",
       "      <td>0.849775</td>\n",
       "      <td>1</td>\n",
       "    </tr>\n",
       "    <tr>\n",
       "      <th>3</th>\n",
       "      <td>8.511353</td>\n",
       "      <td>1126.214187</td>\n",
       "      <td>33.559115</td>\n",
       "      <td>0.868765</td>\n",
       "      <td>3.763142</td>\n",
       "      <td>15.107579</td>\n",
       "      <td>362.291213</td>\n",
       "      <td>0.921786</td>\n",
       "      <td>0.849690</td>\n",
       "      <td>0.949295</td>\n",
       "      <td>2.765725</td>\n",
       "      <td>0.859027</td>\n",
       "      <td>7.460000e-155</td>\n",
       "      <td>101.955792</td>\n",
       "      <td>0.881015</td>\n",
       "      <td>0.068437</td>\n",
       "      <td>0.000000</td>\n",
       "      <td>0</td>\n",
       "    </tr>\n",
       "    <tr>\n",
       "      <th>4</th>\n",
       "      <td>21.000793</td>\n",
       "      <td>2235.316978</td>\n",
       "      <td>47.279139</td>\n",
       "      <td>0.684724</td>\n",
       "      <td>1.936029</td>\n",
       "      <td>4.722343</td>\n",
       "      <td>312.439226</td>\n",
       "      <td>0.804184</td>\n",
       "      <td>0.646711</td>\n",
       "      <td>0.880301</td>\n",
       "      <td>3.006660</td>\n",
       "      <td>0.938572</td>\n",
       "      <td>7.460000e-155</td>\n",
       "      <td>97.639870</td>\n",
       "      <td>0.766308</td>\n",
       "      <td>0.184878</td>\n",
       "      <td>0.000000</td>\n",
       "      <td>0</td>\n",
       "    </tr>\n",
       "  </tbody>\n",
       "</table>\n",
       "</div>"
      ],
      "text/plain": [
       "        Mean     Variance  Standard Deviation   Entropy  Skewness   Kurtosis  \\\n",
       "0  23.448517  2538.985627           50.388348  0.651174  1.984202   5.421042   \n",
       "1   4.398331   834.853030           28.893823  0.953532  6.495203  43.349355   \n",
       "2   3.244263   642.059166           25.338886  0.966065  7.772860  61.756034   \n",
       "3   8.511353  1126.214187           33.559115  0.868765  3.763142  15.107579   \n",
       "4  21.000793  2235.316978           47.279139  0.684724  1.936029   4.722343   \n",
       "\n",
       "     Contrast    Energy       ASM  Homogeneity  Dissimilarity  Correlation  \\\n",
       "0  181.467713  0.781557  0.610831     0.847033       2.765411     0.968576   \n",
       "1   76.745886  0.972770  0.946281     0.980762       0.548605     0.959751   \n",
       "2   81.752406  0.980161  0.960715     0.985066       0.540411     0.944259   \n",
       "3  362.291213  0.921786  0.849690     0.949295       2.765725     0.859027   \n",
       "4  312.439226  0.804184  0.646711     0.880301       3.006660     0.938572   \n",
       "\n",
       "      Coarseness        PSNR      SSIM       MSE        DC  Target  \n",
       "0  7.460000e-155   97.974630  0.777011  0.171163  0.303989       1  \n",
       "1  7.460000e-155  110.346597  0.977953  0.009913  0.839019       1  \n",
       "2  7.460000e-155  112.266298  0.985362  0.006372  0.849775       1  \n",
       "3  7.460000e-155  101.955792  0.881015  0.068437  0.000000       0  \n",
       "4  7.460000e-155   97.639870  0.766308  0.184878  0.000000       0  "
      ]
     },
     "execution_count": 2,
     "metadata": {},
     "output_type": "execute_result"
    }
   ],
   "source": [
    "data=pd.read_csv('braintumor.csv')\n",
    "data.head(5)\n"
   ]
  },
  {
   "cell_type": "code",
   "execution_count": 3,
   "id": "59558c49",
   "metadata": {},
   "outputs": [
    {
     "data": {
      "text/plain": [
       "Mean                    0\n",
       "Variance                0\n",
       "Standard Deviation      0\n",
       "Entropy                 0\n",
       "Skewness              369\n",
       "Kurtosis              369\n",
       "Contrast                0\n",
       "Energy                  0\n",
       "ASM                     0\n",
       "Homogeneity             0\n",
       "Dissimilarity           0\n",
       "Correlation             0\n",
       "Coarseness              0\n",
       "PSNR                    0\n",
       "SSIM                  369\n",
       "MSE                     0\n",
       "DC                     98\n",
       "Target                  0\n",
       "dtype: int64"
      ]
     },
     "execution_count": 3,
     "metadata": {},
     "output_type": "execute_result"
    }
   ],
   "source": [
    "data.isnull().sum()"
   ]
  },
  {
   "cell_type": "code",
   "execution_count": 4,
   "id": "e8ce12e8",
   "metadata": {},
   "outputs": [],
   "source": [
    "data = data.dropna()\n"
   ]
  },
  {
   "cell_type": "code",
   "execution_count": 5,
   "id": "13fb0b16",
   "metadata": {},
   "outputs": [
    {
     "data": {
      "text/plain": [
       "Mean                  0\n",
       "Variance              0\n",
       "Standard Deviation    0\n",
       "Entropy               0\n",
       "Skewness              0\n",
       "Kurtosis              0\n",
       "Contrast              0\n",
       "Energy                0\n",
       "ASM                   0\n",
       "Homogeneity           0\n",
       "Dissimilarity         0\n",
       "Correlation           0\n",
       "Coarseness            0\n",
       "PSNR                  0\n",
       "SSIM                  0\n",
       "MSE                   0\n",
       "DC                    0\n",
       "Target                0\n",
       "dtype: int64"
      ]
     },
     "execution_count": 5,
     "metadata": {},
     "output_type": "execute_result"
    }
   ],
   "source": [
    "data.isnull().sum()"
   ]
  },
  {
   "cell_type": "code",
   "execution_count": 6,
   "id": "c74a5098",
   "metadata": {},
   "outputs": [
    {
     "name": "stdout",
     "output_type": "stream",
     "text": [
      "<class 'pandas.core.frame.DataFrame'>\n",
      "Int64Index: 1275 entries, 0 to 1643\n",
      "Data columns (total 18 columns):\n",
      " #   Column              Non-Null Count  Dtype  \n",
      "---  ------              --------------  -----  \n",
      " 0   Mean                1275 non-null   float64\n",
      " 1   Variance            1275 non-null   float64\n",
      " 2   Standard Deviation  1275 non-null   float64\n",
      " 3   Entropy             1275 non-null   float64\n",
      " 4   Skewness            1275 non-null   float64\n",
      " 5   Kurtosis            1275 non-null   float64\n",
      " 6   Contrast            1275 non-null   float64\n",
      " 7   Energy              1275 non-null   float64\n",
      " 8   ASM                 1275 non-null   float64\n",
      " 9   Homogeneity         1275 non-null   float64\n",
      " 10  Dissimilarity       1275 non-null   float64\n",
      " 11  Correlation         1275 non-null   float64\n",
      " 12  Coarseness          1275 non-null   float64\n",
      " 13  PSNR                1275 non-null   float64\n",
      " 14  SSIM                1275 non-null   float64\n",
      " 15  MSE                 1275 non-null   float64\n",
      " 16  DC                  1275 non-null   float64\n",
      " 17  Target              1275 non-null   int64  \n",
      "dtypes: float64(17), int64(1)\n",
      "memory usage: 189.3 KB\n"
     ]
    }
   ],
   "source": [
    "data.info()"
   ]
  },
  {
   "cell_type": "code",
   "execution_count": 7,
   "id": "b83d55f8",
   "metadata": {},
   "outputs": [
    {
     "data": {
      "text/html": [
       "<div>\n",
       "<style scoped>\n",
       "    .dataframe tbody tr th:only-of-type {\n",
       "        vertical-align: middle;\n",
       "    }\n",
       "\n",
       "    .dataframe tbody tr th {\n",
       "        vertical-align: top;\n",
       "    }\n",
       "\n",
       "    .dataframe thead th {\n",
       "        text-align: right;\n",
       "    }\n",
       "</style>\n",
       "<table border=\"1\" class=\"dataframe\">\n",
       "  <thead>\n",
       "    <tr style=\"text-align: right;\">\n",
       "      <th></th>\n",
       "      <th>Mean</th>\n",
       "      <th>Variance</th>\n",
       "      <th>Standard Deviation</th>\n",
       "      <th>Entropy</th>\n",
       "      <th>Skewness</th>\n",
       "      <th>Kurtosis</th>\n",
       "      <th>Contrast</th>\n",
       "      <th>Energy</th>\n",
       "      <th>ASM</th>\n",
       "      <th>Homogeneity</th>\n",
       "      <th>Dissimilarity</th>\n",
       "      <th>Correlation</th>\n",
       "      <th>Coarseness</th>\n",
       "      <th>PSNR</th>\n",
       "      <th>SSIM</th>\n",
       "      <th>MSE</th>\n",
       "      <th>DC</th>\n",
       "    </tr>\n",
       "    <tr>\n",
       "      <th>Target</th>\n",
       "      <th></th>\n",
       "      <th></th>\n",
       "      <th></th>\n",
       "      <th></th>\n",
       "      <th></th>\n",
       "      <th></th>\n",
       "      <th></th>\n",
       "      <th></th>\n",
       "      <th></th>\n",
       "      <th></th>\n",
       "      <th></th>\n",
       "      <th></th>\n",
       "      <th></th>\n",
       "      <th></th>\n",
       "      <th></th>\n",
       "      <th></th>\n",
       "      <th></th>\n",
       "    </tr>\n",
       "  </thead>\n",
       "  <tbody>\n",
       "    <tr>\n",
       "      <th>0</th>\n",
       "      <td>6.954205</td>\n",
       "      <td>597.767227</td>\n",
       "      <td>19.784348</td>\n",
       "      <td>0.858075</td>\n",
       "      <td>14.830697</td>\n",
       "      <td>530.958316</td>\n",
       "      <td>103.619028</td>\n",
       "      <td>0.911759</td>\n",
       "      <td>0.840925</td>\n",
       "      <td>0.947684</td>\n",
       "      <td>1.145309</td>\n",
       "      <td>0.835853</td>\n",
       "      <td>7.460000e-155</td>\n",
       "      <td>73.417046</td>\n",
       "      <td>0.893644</td>\n",
       "      <td>0.083259</td>\n",
       "      <td>0.000000</td>\n",
       "    </tr>\n",
       "    <tr>\n",
       "      <th>1</th>\n",
       "      <td>3.788843</td>\n",
       "      <td>477.212911</td>\n",
       "      <td>18.197104</td>\n",
       "      <td>0.940709</td>\n",
       "      <td>17.174772</td>\n",
       "      <td>759.610518</td>\n",
       "      <td>72.699182</td>\n",
       "      <td>0.963975</td>\n",
       "      <td>0.932730</td>\n",
       "      <td>0.976015</td>\n",
       "      <td>0.667811</td>\n",
       "      <td>0.867484</td>\n",
       "      <td>7.460000e-155</td>\n",
       "      <td>68.524081</td>\n",
       "      <td>0.943255</td>\n",
       "      <td>0.039043</td>\n",
       "      <td>0.420577</td>\n",
       "    </tr>\n",
       "  </tbody>\n",
       "</table>\n",
       "</div>"
      ],
      "text/plain": [
       "            Mean    Variance  Standard Deviation   Entropy   Skewness  \\\n",
       "Target                                                                  \n",
       "0       6.954205  597.767227           19.784348  0.858075  14.830697   \n",
       "1       3.788843  477.212911           18.197104  0.940709  17.174772   \n",
       "\n",
       "          Kurtosis    Contrast    Energy       ASM  Homogeneity  \\\n",
       "Target                                                            \n",
       "0       530.958316  103.619028  0.911759  0.840925     0.947684   \n",
       "1       759.610518   72.699182  0.963975  0.932730     0.976015   \n",
       "\n",
       "        Dissimilarity  Correlation     Coarseness       PSNR      SSIM  \\\n",
       "Target                                                                   \n",
       "0            1.145309     0.835853  7.460000e-155  73.417046  0.893644   \n",
       "1            0.667811     0.867484  7.460000e-155  68.524081  0.943255   \n",
       "\n",
       "             MSE        DC  \n",
       "Target                      \n",
       "0       0.083259  0.000000  \n",
       "1       0.039043  0.420577  "
      ]
     },
     "execution_count": 7,
     "metadata": {},
     "output_type": "execute_result"
    }
   ],
   "source": [
    "data.groupby('Target').mean()"
   ]
  },
  {
   "cell_type": "code",
   "execution_count": 8,
   "id": "5b3d3e27",
   "metadata": {},
   "outputs": [],
   "source": [
    "#SPLITTING TEST AND TRAIN DATA\n",
    "X = data.drop(columns='Target', axis=1)\n",
    "Y = data['Target']\n",
    "X_train, X_test, Y_train, Y_test = train_test_split(X, Y, test_size=0.2,stratify=Y, random_state=3)"
   ]
  },
  {
   "cell_type": "code",
   "execution_count": 9,
   "id": "90de0feb",
   "metadata": {},
   "outputs": [
    {
     "data": {
      "text/plain": [
       "RandomForestClassifier(random_state=14)"
      ]
     },
     "execution_count": 9,
     "metadata": {},
     "output_type": "execute_result"
    }
   ],
   "source": [
    "from sklearn.ensemble import RandomForestClassifier\n",
    "RFCBrainTumorModel =  RandomForestClassifier(random_state=14)\n",
    "RFCBrainTumorModel.fit(X_train, Y_train)\n"
   ]
  },
  {
   "cell_type": "code",
   "execution_count": 10,
   "id": "8abb8dd6",
   "metadata": {},
   "outputs": [
    {
     "name": "stdout",
     "output_type": "stream",
     "text": [
      "Training data Accuracy:  100.0 %\n",
      "Test data Accuracy:  82.9393398751115 %\n"
     ]
    }
   ],
   "source": [
    "X_train_predict = RFCBrainTumorModel.predict(X_train)\n",
    "train_accuracy = metrics.r2_score( Y_train,X_train_predict )\n",
    "\n",
    "X_test_predict = RFCBrainTumorModel.predict(X_test)\n",
    "test_accuracy = metrics.r2_score(Y_test ,X_test_predict)\n",
    "\n",
    "print('Training data Accuracy: ', train_accuracy*100 ,'%')\n",
    "print('Test data Accuracy: ', test_accuracy*100 ,'%')"
   ]
  },
  {
   "cell_type": "code",
   "execution_count": 11,
   "id": "ca3e76f8",
   "metadata": {},
   "outputs": [
    {
     "data": {
      "text/plain": [
       "RandomForestRegressor(random_state=27)"
      ]
     },
     "execution_count": 11,
     "metadata": {},
     "output_type": "execute_result"
    }
   ],
   "source": [
    "from sklearn.ensemble import RandomForestRegressor\n",
    "RFRBrainTumorModel =  RandomForestRegressor(random_state=27)\n",
    "RFRBrainTumorModel.fit(X_train, Y_train)\n"
   ]
  },
  {
   "cell_type": "code",
   "execution_count": 12,
   "id": "cd093d9d",
   "metadata": {},
   "outputs": [
    {
     "name": "stdout",
     "output_type": "stream",
     "text": [
      "Training data Accuracy:  97.65170667973216 %\n",
      "Test data Accuracy:  86.88205842997324 %\n"
     ]
    }
   ],
   "source": [
    "X_train_predict = RFRBrainTumorModel.predict(X_train)\n",
    "train_accuracy = metrics.r2_score( Y_train,X_train_predict )\n",
    "\n",
    "X_test_predict = RFRBrainTumorModel.predict(X_test)\n",
    "test_accuracy = metrics.r2_score(Y_test ,X_test_predict)\n",
    "\n",
    "print('Training data Accuracy: ', train_accuracy*100 ,'%')\n",
    "print('Test data Accuracy: ', test_accuracy*100 ,'%')"
   ]
  },
  {
   "cell_type": "code",
   "execution_count": 13,
   "id": "b7bcfbc4",
   "metadata": {},
   "outputs": [
    {
     "data": {
      "text/plain": [
       "['RFCBrainTumor.pkl']"
      ]
     },
     "execution_count": 13,
     "metadata": {},
     "output_type": "execute_result"
    }
   ],
   "source": [
    "joblib.dump(RFCBrainTumorModel,'RFCBrainTumor.pkl')\n"
   ]
  },
  {
   "cell_type": "code",
   "execution_count": 14,
   "id": "a3f1c281",
   "metadata": {},
   "outputs": [
    {
     "data": {
      "text/plain": [
       "['RFRBrainTumor.pkl']"
      ]
     },
     "execution_count": 14,
     "metadata": {},
     "output_type": "execute_result"
    }
   ],
   "source": [
    "joblib.dump(RFRBrainTumorModel,'RFRBrainTumor.pkl')\n"
   ]
  },
  {
   "cell_type": "code",
   "execution_count": 23,
   "id": "38b4b477",
   "metadata": {},
   "outputs": [],
   "source": [
    "RFCBrainTumor=joblib.load('RFCBrainTumor.pkl')\n",
    "RFRBrainTumor=joblib.load('RFRBrainTumor.pkl')\n",
    "\n",
    "input_data = (14.69558716,2654.090792,51.51786867,0.853782601,3.308210468,11.90694428,115.9770572,0.912600097,0.832838937,0.946724228,0.95390516,0.980843596,7.46E-155,109.7306995,0.975778404,0.011423611,0.935704514)\n",
    "\n",
    "# change the input data to a numpy array\n",
    "input_data_as_numpy_array= np.asarray(input_data)\n",
    "# reshape the numpy array as we are predicting for only on instance\n",
    "input_data_reshaped = input_data_as_numpy_array.reshape(1,-1)\n"
   ]
  },
  {
   "cell_type": "code",
   "execution_count": 24,
   "id": "04f54053",
   "metadata": {},
   "outputs": [
    {
     "name": "stdout",
     "output_type": "stream",
     "text": [
      "1\n",
      "Tumor Present\n",
      "1.0\n",
      "Possiblility :  100.0 %\n"
     ]
    }
   ],
   "source": [
    "PredictRFCBrainTumor= RFCBrainTumor.predict(input_data_reshaped)\n",
    "PredictRFRBrainTumor= RFRBrainTumor.predict(input_data_reshaped)\n",
    "\n",
    "print(PredictRFCBrainTumor[0])\n",
    "if (PredictRFCBrainTumor[0]== 0):\n",
    "  print('No Tumor ')\n",
    "else:\n",
    "  print('Tumor Present')\n",
    "print(PredictRFRBrainTumor[0])\n",
    "print('Possiblility : ',PredictRFRBrainTumor[0]*100 ,'%')\n"
   ]
  },
  {
   "cell_type": "code",
   "execution_count": null,
   "id": "61d00b12",
   "metadata": {},
   "outputs": [],
   "source": []
  }
 ],
 "metadata": {
  "kernelspec": {
   "display_name": "Python 3",
   "language": "python",
   "name": "python3"
  },
  "language_info": {
   "codemirror_mode": {
    "name": "ipython",
    "version": 3
   },
   "file_extension": ".py",
   "mimetype": "text/x-python",
   "name": "python",
   "nbconvert_exporter": "python",
   "pygments_lexer": "ipython3",
   "version": "3.9.1"
  }
 },
 "nbformat": 4,
 "nbformat_minor": 5
}
