{
 "cells": [
  {
   "cell_type": "code",
   "execution_count": 1,
   "id": "cdd22c1d",
   "metadata": {},
   "outputs": [],
   "source": [
    "import numpy as np\n",
    "import joblib\n",
    "\n",
    "RFClassifierDiabetes=joblib.load('RFClassifierDiabetes.pkl')\n",
    "RFRegressorDiabetes=joblib.load('RFRegressorDiabetes.pkl')\n",
    "input_data = (1,126,60,29,155,30.1,0.349,47)\n",
    "\n",
    "# change the input data to a numpy array\n",
    "input_data_as_numpy_array= np.asarray(input_data)\n",
    "# reshape the numpy array as we are predicting for only on instance\n",
    "input_data_reshaped = input_data_as_numpy_array.reshape(1,-1)\n"
   ]
  },
  {
   "cell_type": "code",
   "execution_count": 2,
   "id": "23a94a4a",
   "metadata": {},
   "outputs": [
    {
     "name": "stdout",
     "output_type": "stream",
     "text": [
      "1\n",
      "Diabetic\n",
      "0.91\n",
      "Possiblility :  91.0 %\n"
     ]
    }
   ],
   "source": [
    "PredictModelRFC = RFClassifierDiabetes.predict(input_data_reshaped)\n",
    "PredictModelRFR = RFRegressorDiabetes.predict(input_data_reshaped)\n",
    "\n",
    "print(PredictModelRFC[0])\n",
    "if (PredictModelRFC[0]== 0):\n",
    "  print('Not Diabetic')\n",
    "else:\n",
    "  print('Diabetic')\n",
    "\n",
    "print(PredictModelRFR[0])\n",
    "print('Possiblility : ',PredictModelRFR[0]*100 ,'%')"
   ]
  }
 ],
 "metadata": {
  "kernelspec": {
   "display_name": "Python 3",
   "language": "python",
   "name": "python3"
  },
  "language_info": {
   "codemirror_mode": {
    "name": "ipython",
    "version": 3
   },
   "file_extension": ".py",
   "mimetype": "text/x-python",
   "name": "python",
   "nbconvert_exporter": "python",
   "pygments_lexer": "ipython3",
   "version": "3.9.1"
  }
 },
 "nbformat": 4,
 "nbformat_minor": 5
}
