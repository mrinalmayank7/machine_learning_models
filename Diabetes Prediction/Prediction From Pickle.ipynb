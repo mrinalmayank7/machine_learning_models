{
 "cells": [
  {
   "cell_type": "code",
   "execution_count": 1,
   "id": "7c57e22c",
   "metadata": {},
   "outputs": [],
   "source": [
    "import pandas as pd\n",
    "import numpy as np\n",
    "import joblib"
   ]
  },
  {
   "cell_type": "code",
   "execution_count": 2,
   "id": "8bf54ae0",
   "metadata": {},
   "outputs": [],
   "source": [
    "loaddiabetesRFC=joblib.load('diabetesRFC.pkl')\n",
    "\n",
    "\n",
    "temp={}\n",
    "temp['Pregnancies']=1\n",
    "temp['Glucose']=85\n",
    "temp['BloodPressure']=66\n",
    "temp['SkinThickness']=29\n",
    "temp['Insulin']=0\n",
    "temp['BMI']=26.6\n",
    "temp['DiabetesPedigreeFunction']=0.351\n",
    "temp['Age']=31"
   ]
  },
  {
   "cell_type": "code",
   "execution_count": 3,
   "id": "fbfda2c2",
   "metadata": {},
   "outputs": [
    {
     "data": {
      "text/html": [
       "<div>\n",
       "<style scoped>\n",
       "    .dataframe tbody tr th:only-of-type {\n",
       "        vertical-align: middle;\n",
       "    }\n",
       "\n",
       "    .dataframe tbody tr th {\n",
       "        vertical-align: top;\n",
       "    }\n",
       "\n",
       "    .dataframe thead th {\n",
       "        text-align: right;\n",
       "    }\n",
       "</style>\n",
       "<table border=\"1\" class=\"dataframe\">\n",
       "  <thead>\n",
       "    <tr style=\"text-align: right;\">\n",
       "      <th></th>\n",
       "      <th>Age</th>\n",
       "      <th>BMI</th>\n",
       "      <th>BloodPressure</th>\n",
       "      <th>DiabetesPedigreeFunction</th>\n",
       "      <th>Glucose</th>\n",
       "      <th>Insulin</th>\n",
       "      <th>Pregnancies</th>\n",
       "      <th>SkinThickness</th>\n",
       "    </tr>\n",
       "  </thead>\n",
       "  <tbody>\n",
       "    <tr>\n",
       "      <th>x</th>\n",
       "      <td>31.0</td>\n",
       "      <td>26.6</td>\n",
       "      <td>66.0</td>\n",
       "      <td>0.351</td>\n",
       "      <td>85.0</td>\n",
       "      <td>0.0</td>\n",
       "      <td>1.0</td>\n",
       "      <td>29.0</td>\n",
       "    </tr>\n",
       "  </tbody>\n",
       "</table>\n",
       "</div>"
      ],
      "text/plain": [
       "    Age   BMI  BloodPressure  DiabetesPedigreeFunction  Glucose  Insulin  \\\n",
       "x  31.0  26.6           66.0                     0.351     85.0      0.0   \n",
       "\n",
       "   Pregnancies  SkinThickness  \n",
       "x          1.0           29.0  "
      ]
     },
     "execution_count": 3,
     "metadata": {},
     "output_type": "execute_result"
    }
   ],
   "source": [
    "testDtaa=pd.DataFrame({'x':temp}).transpose()\n",
    "testDtaa"
   ]
  },
  {
   "cell_type": "code",
   "execution_count": 4,
   "id": "6c0a41ff",
   "metadata": {},
   "outputs": [
    {
     "name": "stdout",
     "output_type": "stream",
     "text": [
      "3.0 % possibility of having diabetes\n"
     ]
    }
   ],
   "source": [
    "print(loaddiabetesRFC.predict(testDtaa)[0]*100,'% possibility of having diabetes')"
   ]
  }
 ],
 "metadata": {
  "kernelspec": {
   "display_name": "Python 3",
   "language": "python",
   "name": "python3"
  },
  "language_info": {
   "codemirror_mode": {
    "name": "ipython",
    "version": 3
   },
   "file_extension": ".py",
   "mimetype": "text/x-python",
   "name": "python",
   "nbconvert_exporter": "python",
   "pygments_lexer": "ipython3",
   "version": "3.9.1"
  }
 },
 "nbformat": 4,
 "nbformat_minor": 5
}
