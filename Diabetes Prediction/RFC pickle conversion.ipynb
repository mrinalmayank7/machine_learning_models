{
 "cells": [
  {
   "cell_type": "code",
   "execution_count": 6,
   "id": "66588741",
   "metadata": {},
   "outputs": [
    {
     "name": "stderr",
     "output_type": "stream",
     "text": [
      "c:\\users\\dell\\miniconda3\\lib\\site-packages\\sklearn\\pipeline.py:346: DataConversionWarning: A column-vector y was passed when a 1d array was expected. Please change the shape of y to (n_samples,), for example using ravel().\n",
      "  self._final_estimator.fit(Xt, y, **fit_params_last_step)\n"
     ]
    },
    {
     "data": {
      "text/plain": [
       "['diabetesRFC.pkl']"
      ]
     },
     "execution_count": 6,
     "metadata": {},
     "output_type": "execute_result"
    }
   ],
   "source": [
    "import pandas as pd\n",
    "import numpy as np\n",
    "from sklearn import pipeline,preprocessing,metrics,model_selection,ensemble\n",
    "from sklearn_pandas import DataFrameMapper\n",
    "\n",
    "data=pd.read_csv('diabetes.csv')\n",
    "#data.head()\n",
    "#data.isnull().sum()\n",
    "#pd.read_csv? 'it helps to know about parameters of this function\n",
    "#data.shape 'it  return total number of rows & col in the form (row , col)\n",
    "#data.info() #not null means no row contain missing values \n",
    "#data.describe() #'give statistical measure like count , mean , min etc\n",
    "#data['Outcome'].value_counts() #count values of 0 and 1 in outcome , 1 is diabetes +\n",
    "#data.groupby('Outcome').mean() # calcuate mean for all row in value 0 & 1\n",
    "\n",
    "\n",
    "mapper = DataFrameMapper([\n",
    "                        (['Pregnancies','Glucose','BloodPressure','SkinThickness','Insulin','BMI','DiabetesPedigreeFunction','Age'], preprocessing.StandardScaler())\n",
    "                        ])\n",
    "pipeline_obj = pipeline.Pipeline([\n",
    "    ('mapper',mapper),\n",
    "    (\"model\", ensemble.RandomForestRegressor())\n",
    "])\n",
    "\n",
    "\n",
    "\n",
    "X=['Pregnancies','Glucose','BloodPressure','SkinThickness','Insulin','BMI','DiabetesPedigreeFunction','Age']\n",
    "Y=['Outcome']\n",
    "pipeline_obj.fit(data[X],data[Y])\n",
    "pipeline_obj.predict(data[X])\n",
    "\n",
    "\n",
    "import joblib\n",
    "joblib.dump(pipeline_obj,'diabetesRFC.pkl')\n",
    "\n",
    "\n"
   ]
  },
  {
   "cell_type": "code",
   "execution_count": null,
   "id": "8a278023",
   "metadata": {},
   "outputs": [],
   "source": []
  }
 ],
 "metadata": {
  "kernelspec": {
   "display_name": "Python 3",
   "language": "python",
   "name": "python3"
  },
  "language_info": {
   "codemirror_mode": {
    "name": "ipython",
    "version": 3
   },
   "file_extension": ".py",
   "mimetype": "text/x-python",
   "name": "python",
   "nbconvert_exporter": "python",
   "pygments_lexer": "ipython3",
   "version": "3.9.1"
  }
 },
 "nbformat": 4,
 "nbformat_minor": 5
}
