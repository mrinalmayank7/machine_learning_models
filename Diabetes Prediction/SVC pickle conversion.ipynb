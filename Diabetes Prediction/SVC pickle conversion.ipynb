{
 "cells": [
  {
   "cell_type": "code",
   "execution_count": 1,
   "id": "9a4b6afe",
   "metadata": {},
   "outputs": [
    {
     "data": {
      "text/plain": [
       "['diabetesSVM.pkl']"
      ]
     },
     "execution_count": 1,
     "metadata": {},
     "output_type": "execute_result"
    }
   ],
   "source": [
    "import numpy as np\n",
    "import pandas as pd\n",
    "from sklearn.preprocessing import StandardScaler\n",
    "from sklearn.model_selection import train_test_split\n",
    "from sklearn import svm\n",
    "from sklearn.metrics import accuracy_score\n",
    "\n",
    "# Load dataset\n",
    "df_diabetes = pd.read_csv('diabetes.csv')\n",
    "\n",
    "\n",
    "#pd.read_csv? 'it helps to know about parameters of this function\n",
    "#df_diabetes.shape 'it  return total number of rows & col in the form (row , col)\n",
    "#df_diabetes.head(5) #return top 5 rows\n",
    "#df_diabetes.describe() #'give statistical measure like count , mean , min etc\n",
    "#df_diabetes['Outcome'].value_counts() #count values of 0 and 1 in outcome , 1 is diabetes +\n",
    "#df_diabetes.groupby('Outcome').mean() # calcuate mean for all row in value 0 & 1\n",
    "\n",
    "\n",
    "# separating the data and outcome\n",
    "X= df_diabetes.drop(columns = 'Outcome', axis=1)\n",
    "Y = df_diabetes['Outcome']\n",
    "#print(X)\n",
    "#print(Y)\n",
    "\n",
    "\n",
    "#defining train and test variables for data and outcome\n",
    "#test_size= 0.1 means 10% of data is used for testing and 80% is used for traninig\n",
    "#Stratify for outcome \n",
    "X_train, X_test, Y_train, Y_test = train_test_split(X,Y, test_size = 0.2, stratify=Y, random_state=2)\n",
    "#print(X.shape, X_train.shape, X_test.shape) #showing how many rows used for training and testing and total \n",
    "\n",
    "\n",
    "#TRAINING THE MODEL \n",
    "#Loading SUPPORT VECTOR MACHINE for model training \n",
    "classifier = svm.SVC(kernel='linear')\n",
    "classifier.fit(X_train, Y_train) #this will traing the model , for larger data it may take time\n",
    "\n",
    "\n",
    "import joblib\n",
    "filename='diabetesSVM.pkl'\n",
    "joblib.dump(classifier ,filename)\n",
    "\n",
    "\n"
   ]
  },
  {
   "cell_type": "code",
   "execution_count": null,
   "id": "d5da5fe6",
   "metadata": {},
   "outputs": [],
   "source": []
  }
 ],
 "metadata": {
  "kernelspec": {
   "display_name": "Python 3",
   "language": "python",
   "name": "python3"
  },
  "language_info": {
   "codemirror_mode": {
    "name": "ipython",
    "version": 3
   },
   "file_extension": ".py",
   "mimetype": "text/x-python",
   "name": "python",
   "nbconvert_exporter": "python",
   "pygments_lexer": "ipython3",
   "version": "3.9.1"
  }
 },
 "nbformat": 4,
 "nbformat_minor": 5
}
