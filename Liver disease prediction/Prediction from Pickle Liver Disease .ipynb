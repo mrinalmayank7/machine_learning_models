{
 "cells": [
  {
   "cell_type": "code",
   "execution_count": 13,
   "id": "e91ad760",
   "metadata": {},
   "outputs": [],
   "source": [
    "import pandas as pd\n",
    "import numpy as np\n",
    "import joblib"
   ]
  },
  {
   "cell_type": "code",
   "execution_count": 14,
   "id": "b52c2f8d",
   "metadata": {},
   "outputs": [],
   "source": [
    "loadliverRFC=joblib.load('liverRFC.pkl')\n",
    "\n",
    "\n",
    "temp={}\n",
    "temp['Age']=46\n",
    "temp['Gender']=1\n",
    "temp['Total_Bilirubin']=1.8\n",
    "temp['Direct_Bilirubin']=0.7\n",
    "temp['Alkaline_Phosphotase']=208\n",
    "temp['Alamine_Aminotransferase']=19\n",
    "temp['Aspartate_Aminotransferase']=14\n",
    "temp['Total_Protiens']=7.6\n",
    "temp['Albumin']=4.4\n",
    "temp['Albumin_and_Globulin_Ratio']=1.3"
   ]
  },
  {
   "cell_type": "code",
   "execution_count": 15,
   "id": "a0ab494e",
   "metadata": {},
   "outputs": [
    {
     "data": {
      "text/html": [
       "<div>\n",
       "<style scoped>\n",
       "    .dataframe tbody tr th:only-of-type {\n",
       "        vertical-align: middle;\n",
       "    }\n",
       "\n",
       "    .dataframe tbody tr th {\n",
       "        vertical-align: top;\n",
       "    }\n",
       "\n",
       "    .dataframe thead th {\n",
       "        text-align: right;\n",
       "    }\n",
       "</style>\n",
       "<table border=\"1\" class=\"dataframe\">\n",
       "  <thead>\n",
       "    <tr style=\"text-align: right;\">\n",
       "      <th></th>\n",
       "      <th>Age</th>\n",
       "      <th>Alamine_Aminotransferase</th>\n",
       "      <th>Albumin</th>\n",
       "      <th>Albumin_and_Globulin_Ratio</th>\n",
       "      <th>Alkaline_Phosphotase</th>\n",
       "      <th>Aspartate_Aminotransferase</th>\n",
       "      <th>Direct_Bilirubin</th>\n",
       "      <th>Gender</th>\n",
       "      <th>Total_Bilirubin</th>\n",
       "      <th>Total_Protiens</th>\n",
       "    </tr>\n",
       "  </thead>\n",
       "  <tbody>\n",
       "    <tr>\n",
       "      <th>x</th>\n",
       "      <td>46.0</td>\n",
       "      <td>19.0</td>\n",
       "      <td>4.4</td>\n",
       "      <td>1.3</td>\n",
       "      <td>208.0</td>\n",
       "      <td>14.0</td>\n",
       "      <td>0.7</td>\n",
       "      <td>1.0</td>\n",
       "      <td>1.8</td>\n",
       "      <td>7.6</td>\n",
       "    </tr>\n",
       "  </tbody>\n",
       "</table>\n",
       "</div>"
      ],
      "text/plain": [
       "    Age  Alamine_Aminotransferase  Albumin  Albumin_and_Globulin_Ratio  \\\n",
       "x  46.0                      19.0      4.4                         1.3   \n",
       "\n",
       "   Alkaline_Phosphotase  Aspartate_Aminotransferase  Direct_Bilirubin  Gender  \\\n",
       "x                 208.0                        14.0               0.7     1.0   \n",
       "\n",
       "   Total_Bilirubin  Total_Protiens  \n",
       "x              1.8             7.6  "
      ]
     },
     "execution_count": 15,
     "metadata": {},
     "output_type": "execute_result"
    }
   ],
   "source": [
    "testDtaa=pd.DataFrame({'x':temp}).transpose()\n",
    "testDtaa"
   ]
  },
  {
   "cell_type": "code",
   "execution_count": 16,
   "id": "2e10c1b5",
   "metadata": {},
   "outputs": [
    {
     "name": "stdout",
     "output_type": "stream",
     "text": [
      "84.0 % possibility of having liver disease\n"
     ]
    }
   ],
   "source": [
    "print(loadliverRFC.predict(testDtaa)[0]*100,'% possibility of having liver disease')"
   ]
  },
  {
   "cell_type": "code",
   "execution_count": null,
   "id": "916c7b01",
   "metadata": {},
   "outputs": [],
   "source": []
  }
 ],
 "metadata": {
  "kernelspec": {
   "display_name": "Python 3",
   "language": "python",
   "name": "python3"
  },
  "language_info": {
   "codemirror_mode": {
    "name": "ipython",
    "version": 3
   },
   "file_extension": ".py",
   "mimetype": "text/x-python",
   "name": "python",
   "nbconvert_exporter": "python",
   "pygments_lexer": "ipython3",
   "version": "3.9.1"
  }
 },
 "nbformat": 4,
 "nbformat_minor": 5
}
