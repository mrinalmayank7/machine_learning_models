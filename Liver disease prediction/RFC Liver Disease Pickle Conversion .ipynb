{
 "cells": [
  {
   "cell_type": "code",
   "execution_count": 4,
   "id": "ca290b20",
   "metadata": {},
   "outputs": [
    {
     "name": "stderr",
     "output_type": "stream",
     "text": [
      "c:\\users\\dell\\miniconda3\\lib\\site-packages\\sklearn\\pipeline.py:346: DataConversionWarning: A column-vector y was passed when a 1d array was expected. Please change the shape of y to (n_samples,), for example using ravel().\n",
      "  self._final_estimator.fit(Xt, y, **fit_params_last_step)\n"
     ]
    },
    {
     "data": {
      "text/plain": [
       "['liverRFC.pkl']"
      ]
     },
     "execution_count": 4,
     "metadata": {},
     "output_type": "execute_result"
    }
   ],
   "source": [
    "\n",
    "import pandas as pd\n",
    "import numpy as np\n",
    "from sklearn import pipeline,preprocessing,metrics,model_selection,ensemble\n",
    "from sklearn_pandas import DataFrameMapper\n",
    "\n",
    "data=pd.read_csv('liver.csv')\n",
    "\n",
    "#data.isnull().sum() #found missing values preprocessing required\n",
    "#data.info()\n",
    "\n",
    "#DATA PREPROCESSING \n",
    "data= data.dropna() #Dropping rows with missing values\n",
    "data.loc[data['Dataset'] == 2, 'Dataset'] = 0 #replacing with 0 in place of 2 where 2 is non liver patient \n",
    "#data['Gender'].value_counts()\n",
    "\n",
    "data.loc[data['Gender'] == 'Male', 'Gender'] = 1 #set string male to int 1\n",
    "data.loc[data['Gender'] == 'Female', 'Gender'] = 0 #set string female to int 0\n",
    "\n",
    "# data['Dataset'].value_counts() #here Dataset is result with 1 being liver patient and 0  being non liver patient\n",
    "#data['Gender'].value_counts() # 1 = male and 0 = female \n",
    "# data.isnull().sum()\n",
    "# data.info()\n",
    "\n",
    "mapper = DataFrameMapper([\n",
    "                        (['Age','Gender','Total_Bilirubin','Direct_Bilirubin','Alkaline_Phosphotase','Alamine_Aminotransferase','Aspartate_Aminotransferase','Total_Protiens','Albumin','Albumin_and_Globulin_Ratio'], preprocessing.StandardScaler())\n",
    "                        ])\n",
    "pipeline_obj = pipeline.Pipeline([\n",
    "    ('mapper',mapper),\n",
    "    (\"model\", ensemble.RandomForestRegressor())\n",
    "])\n",
    "\n",
    "\n",
    "\n",
    "\n",
    "X=['Age','Gender','Total_Bilirubin','Direct_Bilirubin','Alkaline_Phosphotase','Alamine_Aminotransferase','Aspartate_Aminotransferase','Total_Protiens','Albumin','Albumin_and_Globulin_Ratio']\n",
    "Y=['Dataset']\n",
    "pipeline_obj.fit(data[X],data[Y])\n",
    "pipeline_obj.predict(data[X])\n",
    "\n",
    "\n",
    "import joblib\n",
    "joblib.dump(pipeline_obj,'liverRFC.pkl')\n",
    "\n"
   ]
  },
  {
   "cell_type": "code",
   "execution_count": null,
   "id": "0d9c8b26",
   "metadata": {},
   "outputs": [],
   "source": []
  }
 ],
 "metadata": {
  "kernelspec": {
   "display_name": "Python 3",
   "language": "python",
   "name": "python3"
  },
  "language_info": {
   "codemirror_mode": {
    "name": "ipython",
    "version": 3
   },
   "file_extension": ".py",
   "mimetype": "text/x-python",
   "name": "python",
   "nbconvert_exporter": "python",
   "pygments_lexer": "ipython3",
   "version": "3.9.1"
  }
 },
 "nbformat": 4,
 "nbformat_minor": 5
}
