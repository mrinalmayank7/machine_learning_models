{
 "cells": [
  {
   "cell_type": "code",
   "execution_count": 52,
   "id": "2447fed3",
   "metadata": {},
   "outputs": [],
   "source": [
    "import pandas as pd\n",
    "import numpy as np\n",
    "from sklearn import pipeline,preprocessing,metrics,model_selection,ensemble\n",
    "from sklearn_pandas import DataFrameMapper\n"
   ]
  },
  {
   "cell_type": "code",
   "execution_count": 53,
   "id": "cb98c88c",
   "metadata": {},
   "outputs": [
    {
     "data": {
      "text/html": [
       "<div>\n",
       "<style scoped>\n",
       "    .dataframe tbody tr th:only-of-type {\n",
       "        vertical-align: middle;\n",
       "    }\n",
       "\n",
       "    .dataframe tbody tr th {\n",
       "        vertical-align: top;\n",
       "    }\n",
       "\n",
       "    .dataframe thead th {\n",
       "        text-align: right;\n",
       "    }\n",
       "</style>\n",
       "<table border=\"1\" class=\"dataframe\">\n",
       "  <thead>\n",
       "    <tr style=\"text-align: right;\">\n",
       "      <th></th>\n",
       "      <th>Age</th>\n",
       "      <th>Gender</th>\n",
       "      <th>Total_Bilirubin</th>\n",
       "      <th>Direct_Bilirubin</th>\n",
       "      <th>Alkaline_Phosphotase</th>\n",
       "      <th>Alamine_Aminotransferase</th>\n",
       "      <th>Aspartate_Aminotransferase</th>\n",
       "      <th>Total_Protiens</th>\n",
       "      <th>Albumin</th>\n",
       "      <th>Albumin_and_Globulin_Ratio</th>\n",
       "      <th>Dataset</th>\n",
       "    </tr>\n",
       "  </thead>\n",
       "  <tbody>\n",
       "    <tr>\n",
       "      <th>0</th>\n",
       "      <td>65</td>\n",
       "      <td>Female</td>\n",
       "      <td>0.7</td>\n",
       "      <td>0.1</td>\n",
       "      <td>187</td>\n",
       "      <td>16</td>\n",
       "      <td>18</td>\n",
       "      <td>6.8</td>\n",
       "      <td>3.3</td>\n",
       "      <td>0.90</td>\n",
       "      <td>1</td>\n",
       "    </tr>\n",
       "    <tr>\n",
       "      <th>1</th>\n",
       "      <td>62</td>\n",
       "      <td>Male</td>\n",
       "      <td>10.9</td>\n",
       "      <td>5.5</td>\n",
       "      <td>699</td>\n",
       "      <td>64</td>\n",
       "      <td>100</td>\n",
       "      <td>7.5</td>\n",
       "      <td>3.2</td>\n",
       "      <td>0.74</td>\n",
       "      <td>1</td>\n",
       "    </tr>\n",
       "    <tr>\n",
       "      <th>2</th>\n",
       "      <td>62</td>\n",
       "      <td>Male</td>\n",
       "      <td>7.3</td>\n",
       "      <td>4.1</td>\n",
       "      <td>490</td>\n",
       "      <td>60</td>\n",
       "      <td>68</td>\n",
       "      <td>7.0</td>\n",
       "      <td>3.3</td>\n",
       "      <td>0.89</td>\n",
       "      <td>1</td>\n",
       "    </tr>\n",
       "    <tr>\n",
       "      <th>3</th>\n",
       "      <td>58</td>\n",
       "      <td>Male</td>\n",
       "      <td>1.0</td>\n",
       "      <td>0.4</td>\n",
       "      <td>182</td>\n",
       "      <td>14</td>\n",
       "      <td>20</td>\n",
       "      <td>6.8</td>\n",
       "      <td>3.4</td>\n",
       "      <td>1.00</td>\n",
       "      <td>1</td>\n",
       "    </tr>\n",
       "    <tr>\n",
       "      <th>4</th>\n",
       "      <td>72</td>\n",
       "      <td>Male</td>\n",
       "      <td>3.9</td>\n",
       "      <td>2.0</td>\n",
       "      <td>195</td>\n",
       "      <td>27</td>\n",
       "      <td>59</td>\n",
       "      <td>7.3</td>\n",
       "      <td>2.4</td>\n",
       "      <td>0.40</td>\n",
       "      <td>1</td>\n",
       "    </tr>\n",
       "  </tbody>\n",
       "</table>\n",
       "</div>"
      ],
      "text/plain": [
       "   Age  Gender  Total_Bilirubin  Direct_Bilirubin  Alkaline_Phosphotase  \\\n",
       "0   65  Female              0.7               0.1                   187   \n",
       "1   62    Male             10.9               5.5                   699   \n",
       "2   62    Male              7.3               4.1                   490   \n",
       "3   58    Male              1.0               0.4                   182   \n",
       "4   72    Male              3.9               2.0                   195   \n",
       "\n",
       "   Alamine_Aminotransferase  Aspartate_Aminotransferase  Total_Protiens  \\\n",
       "0                        16                          18             6.8   \n",
       "1                        64                         100             7.5   \n",
       "2                        60                          68             7.0   \n",
       "3                        14                          20             6.8   \n",
       "4                        27                          59             7.3   \n",
       "\n",
       "   Albumin  Albumin_and_Globulin_Ratio  Dataset  \n",
       "0      3.3                        0.90        1  \n",
       "1      3.2                        0.74        1  \n",
       "2      3.3                        0.89        1  \n",
       "3      3.4                        1.00        1  \n",
       "4      2.4                        0.40        1  "
      ]
     },
     "execution_count": 53,
     "metadata": {},
     "output_type": "execute_result"
    }
   ],
   "source": [
    "data=pd.read_csv('liver.csv')\n",
    "data.head()"
   ]
  },
  {
   "cell_type": "code",
   "execution_count": 54,
   "id": "3bbd0658",
   "metadata": {},
   "outputs": [],
   "source": [
    "#data.isnull().sum() #found missing values preprocessing required\n",
    "#data.info()\n"
   ]
  },
  {
   "cell_type": "code",
   "execution_count": 56,
   "id": "074be79f",
   "metadata": {},
   "outputs": [
    {
     "data": {
      "text/plain": [
       "Male      439\n",
       "Female    140\n",
       "Name: Gender, dtype: int64"
      ]
     },
     "execution_count": 56,
     "metadata": {},
     "output_type": "execute_result"
    }
   ],
   "source": [
    "#DATA PREPROCESSING \n",
    "data= data.dropna() #Drpooing rows with missing values\n",
    "data.loc[data['Dataset'] == 2, 'Dataset'] = 0 #replacing with 0 in place of 2 where 2 is non liver patient \n",
    "data['Gender'].value_counts()"
   ]
  },
  {
   "cell_type": "code",
   "execution_count": 57,
   "id": "e83d0698",
   "metadata": {},
   "outputs": [],
   "source": [
    "data.loc[data['Gender'] == 'Male', 'Gender'] = 1 #set string male to int 1\n",
    "data.loc[data['Gender'] == 'Female', 'Gender'] = 0 #set string female to int 0"
   ]
  },
  {
   "cell_type": "code",
   "execution_count": 58,
   "id": "8f8436a2",
   "metadata": {},
   "outputs": [
    {
     "data": {
      "text/plain": [
       "1    414\n",
       "0    165\n",
       "Name: Dataset, dtype: int64"
      ]
     },
     "execution_count": 58,
     "metadata": {},
     "output_type": "execute_result"
    }
   ],
   "source": [
    "data['Dataset'].value_counts() #here Dataset is result with 1 being liver patient and 0  being non liver patient"
   ]
  },
  {
   "cell_type": "code",
   "execution_count": 59,
   "id": "26de5682",
   "metadata": {},
   "outputs": [
    {
     "data": {
      "text/plain": [
       "1    439\n",
       "0    140\n",
       "Name: Gender, dtype: int64"
      ]
     },
     "execution_count": 59,
     "metadata": {},
     "output_type": "execute_result"
    }
   ],
   "source": [
    "data['Gender'].value_counts() # 1 = male and 0 = female "
   ]
  },
  {
   "cell_type": "code",
   "execution_count": 60,
   "id": "14fbdcf2",
   "metadata": {},
   "outputs": [
    {
     "data": {
      "text/plain": [
       "Age                           0\n",
       "Gender                        0\n",
       "Total_Bilirubin               0\n",
       "Direct_Bilirubin              0\n",
       "Alkaline_Phosphotase          0\n",
       "Alamine_Aminotransferase      0\n",
       "Aspartate_Aminotransferase    0\n",
       "Total_Protiens                0\n",
       "Albumin                       0\n",
       "Albumin_and_Globulin_Ratio    0\n",
       "Dataset                       0\n",
       "dtype: int64"
      ]
     },
     "execution_count": 60,
     "metadata": {},
     "output_type": "execute_result"
    }
   ],
   "source": [
    "data.isnull().sum()"
   ]
  },
  {
   "cell_type": "code",
   "execution_count": 61,
   "id": "0e63dcee",
   "metadata": {},
   "outputs": [
    {
     "name": "stdout",
     "output_type": "stream",
     "text": [
      "<class 'pandas.core.frame.DataFrame'>\n",
      "Int64Index: 579 entries, 0 to 582\n",
      "Data columns (total 11 columns):\n",
      " #   Column                      Non-Null Count  Dtype  \n",
      "---  ------                      --------------  -----  \n",
      " 0   Age                         579 non-null    int64  \n",
      " 1   Gender                      579 non-null    object \n",
      " 2   Total_Bilirubin             579 non-null    float64\n",
      " 3   Direct_Bilirubin            579 non-null    float64\n",
      " 4   Alkaline_Phosphotase        579 non-null    int64  \n",
      " 5   Alamine_Aminotransferase    579 non-null    int64  \n",
      " 6   Aspartate_Aminotransferase  579 non-null    int64  \n",
      " 7   Total_Protiens              579 non-null    float64\n",
      " 8   Albumin                     579 non-null    float64\n",
      " 9   Albumin_and_Globulin_Ratio  579 non-null    float64\n",
      " 10  Dataset                     579 non-null    int64  \n",
      "dtypes: float64(5), int64(5), object(1)\n",
      "memory usage: 54.3+ KB\n"
     ]
    }
   ],
   "source": [
    "data.info()"
   ]
  },
  {
   "cell_type": "code",
   "execution_count": 62,
   "id": "e872185d",
   "metadata": {},
   "outputs": [],
   "source": [
    "mapper = DataFrameMapper([\n",
    "                        (['Age','Gender','Total_Bilirubin','Direct_Bilirubin','Alkaline_Phosphotase','Alamine_Aminotransferase','Aspartate_Aminotransferase','Total_Protiens','Albumin','Albumin_and_Globulin_Ratio'], preprocessing.StandardScaler())\n",
    "                        ])\n",
    "pipeline_obj = pipeline.Pipeline([\n",
    "    ('mapper',mapper),\n",
    "    (\"model\", ensemble.RandomForestRegressor())\n",
    "])"
   ]
  },
  {
   "cell_type": "code",
   "execution_count": 63,
   "id": "a4fa940c",
   "metadata": {},
   "outputs": [
    {
     "name": "stderr",
     "output_type": "stream",
     "text": [
      "c:\\users\\dell\\miniconda3\\lib\\site-packages\\sklearn\\pipeline.py:346: DataConversionWarning: A column-vector y was passed when a 1d array was expected. Please change the shape of y to (n_samples,), for example using ravel().\n",
      "  self._final_estimator.fit(Xt, y, **fit_params_last_step)\n"
     ]
    },
    {
     "data": {
      "text/plain": [
       "array([0.81, 0.99, 0.99, 0.84, 1.  , 0.81, 0.8 , 0.83, 0.06, 0.96, 0.97,\n",
       "       0.96, 0.29, 0.84, 0.82, 0.33, 0.92, 0.2 , 1.  , 1.  , 0.95, 0.98,\n",
       "       1.  , 0.92, 0.19, 1.  , 1.  , 0.99, 0.15, 0.12, 0.96, 0.84, 0.08,\n",
       "       0.12, 0.12, 0.97, 0.18, 1.  , 0.91, 1.  , 0.83, 0.29, 0.39, 0.97,\n",
       "       0.24, 0.31, 0.9 , 0.98, 0.89, 1.  , 0.83, 0.73, 0.98, 0.89, 0.97,\n",
       "       0.97, 0.2 , 0.28, 0.85, 0.12, 0.84, 0.9 , 0.9 , 0.88, 0.96, 0.9 ,\n",
       "       0.83, 0.87, 0.76, 0.27, 0.9 , 0.89, 0.83, 0.78, 0.75, 0.22, 0.83,\n",
       "       0.95, 0.26, 0.93, 0.98, 0.87, 0.27, 0.93, 0.83, 0.81, 0.25, 0.96,\n",
       "       0.87, 1.  , 1.  , 1.  , 1.  , 1.  , 0.99, 0.9 , 1.  , 0.99, 0.97,\n",
       "       0.96, 0.14, 0.26, 0.79, 0.28, 0.79, 0.08, 0.08, 0.1 , 0.1 , 0.33,\n",
       "       0.22, 0.98, 0.25, 0.85, 0.38, 0.3 , 0.93, 1.  , 1.  , 1.  , 1.  ,\n",
       "       0.99, 0.38, 0.85, 0.2 , 0.23, 0.99, 0.95, 0.88, 0.98, 0.96, 0.31,\n",
       "       0.18, 0.88, 0.77, 1.  , 1.  , 1.  , 1.  , 0.86, 0.22, 0.99, 0.95,\n",
       "       0.95, 0.97, 0.08, 0.97, 0.81, 0.78, 0.88, 0.19, 0.82, 0.81, 0.19,\n",
       "       0.96, 0.99, 0.97, 0.98, 0.98, 0.96, 0.97, 1.  , 0.99, 0.97, 0.97,\n",
       "       0.97, 0.99, 0.99, 0.99, 1.  , 0.96, 0.98, 0.97, 0.96, 0.96, 0.8 ,\n",
       "       0.99, 0.98, 0.99, 0.99, 0.88, 0.95, 0.27, 0.82, 0.77, 0.23, 1.  ,\n",
       "       0.92, 0.95, 0.25, 0.99, 1.  , 0.94, 0.21, 0.28, 0.9 , 0.91, 0.8 ,\n",
       "       0.29, 0.91, 0.98, 0.98, 0.16, 0.06, 0.16, 0.92, 1.  , 1.  , 0.91,\n",
       "       0.77, 1.  , 0.36, 0.84, 0.89, 0.29, 0.28, 0.79, 0.15, 0.85, 0.87,\n",
       "       0.73, 0.95, 0.19, 0.93, 0.78, 0.85, 0.78, 0.15, 0.95, 0.19, 0.87,\n",
       "       0.96, 0.88, 0.95, 0.93, 0.29, 0.83, 0.15, 0.88, 0.26, 0.69, 0.92,\n",
       "       0.83, 0.97, 0.94, 0.74, 0.87, 0.97, 0.97, 0.85, 0.24, 0.14, 0.92,\n",
       "       0.94, 0.97, 0.17, 1.  , 1.  , 0.96, 0.86, 0.75, 0.32, 0.14, 0.79,\n",
       "       0.77, 0.99, 0.86, 0.79, 0.34, 0.95, 0.88, 0.81, 0.2 , 0.17, 0.81,\n",
       "       0.9 , 0.78, 0.95, 0.18, 0.85, 0.2 , 0.87, 0.86, 0.73, 0.2 , 0.91,\n",
       "       0.97, 0.93, 0.12, 0.93, 0.11, 0.87, 0.78, 0.9 , 0.17, 0.84, 0.13,\n",
       "       0.08, 0.97, 0.88, 0.16, 0.77, 0.15, 0.96, 0.78, 0.84, 0.93, 0.78,\n",
       "       0.99, 0.22, 0.95, 0.07, 0.25, 0.92, 0.95, 0.21, 0.89, 0.85, 0.85,\n",
       "       0.26, 0.89, 0.13, 0.27, 0.3 , 0.16, 0.12, 0.84, 0.95, 0.99, 0.14,\n",
       "       0.75, 0.76, 0.98, 0.96, 0.94, 0.94, 0.93, 0.95, 0.32, 0.98, 0.22,\n",
       "       0.98, 0.78, 0.98, 0.91, 0.24, 0.88, 0.73, 0.84, 0.96, 0.84, 0.25,\n",
       "       0.94, 0.85, 0.79, 0.23, 0.86, 0.32, 0.19, 0.17, 0.15, 0.3 , 0.21,\n",
       "       0.33, 0.89, 0.78, 0.98, 0.2 , 0.94, 0.13, 0.3 , 0.96, 0.85, 0.16,\n",
       "       0.86, 0.22, 0.97, 0.7 , 0.79, 0.19, 1.  , 0.82, 0.33, 0.81, 0.83,\n",
       "       0.89, 0.92, 0.88, 0.98, 0.98, 0.97, 0.17, 0.9 , 0.92, 0.83, 0.96,\n",
       "       0.18, 0.95, 0.88, 0.09, 0.66, 0.81, 0.19, 0.9 , 0.99, 0.99, 0.97,\n",
       "       0.33, 1.  , 0.28, 0.26, 0.93, 0.98, 0.22, 1.  , 0.97, 0.92, 0.24,\n",
       "       0.97, 0.28, 0.77, 0.94, 0.19, 0.88, 0.25, 0.96, 0.81, 0.24, 0.75,\n",
       "       0.23, 0.19, 0.18, 0.85, 0.77, 0.83, 0.84, 0.87, 0.9 , 0.99, 0.74,\n",
       "       0.18, 0.35, 0.8 , 0.87, 0.76, 0.84, 0.98, 0.95, 0.89, 0.93, 0.24,\n",
       "       0.67, 0.24, 0.21, 0.86, 0.8 , 0.86, 0.88, 0.77, 0.85, 0.17, 0.22,\n",
       "       0.2 , 0.25, 0.92, 0.84, 0.85, 0.32, 0.25, 0.22, 0.28, 0.36, 0.92,\n",
       "       0.84, 1.  , 0.99, 0.06, 1.  , 0.93, 0.23, 0.87, 0.99, 0.83, 0.99,\n",
       "       0.14, 0.18, 0.88, 0.2 , 0.94, 0.19, 0.93, 0.18, 0.73, 0.95, 0.86,\n",
       "       1.  , 0.91, 0.87, 0.92, 0.99, 0.98, 0.99, 0.99, 0.93, 1.  , 1.  ,\n",
       "       0.18, 0.99, 0.29, 0.84, 0.93, 1.  , 0.74, 0.85, 1.  , 0.96, 0.87,\n",
       "       0.98, 0.92, 0.74, 0.15, 0.22, 1.  , 1.  , 0.9 , 0.99, 0.11, 0.99,\n",
       "       0.19, 0.99, 0.3 , 0.95, 1.  , 0.79, 0.92, 0.34, 0.28, 0.14, 0.17,\n",
       "       0.77, 0.99, 0.2 , 1.  , 1.  , 0.98, 0.94, 0.95, 0.11, 0.84, 1.  ,\n",
       "       0.98, 0.98, 0.82, 0.98, 0.99, 1.  , 1.  , 1.  , 1.  , 0.92, 0.26,\n",
       "       0.88, 0.2 , 0.97, 0.98, 1.  , 0.96, 0.93, 0.87, 0.97, 0.99, 0.99,\n",
       "       0.98, 0.95, 0.26, 0.94, 0.97, 0.77, 0.15])"
      ]
     },
     "execution_count": 63,
     "metadata": {},
     "output_type": "execute_result"
    }
   ],
   "source": [
    "X=['Age','Gender','Total_Bilirubin','Direct_Bilirubin','Alkaline_Phosphotase','Alamine_Aminotransferase','Aspartate_Aminotransferase','Total_Protiens','Albumin','Albumin_and_Globulin_Ratio']\n",
    "Y=['Dataset']\n",
    "pipeline_obj.fit(data[X],data[Y])\n",
    "pipeline_obj.predict(data[X])"
   ]
  },
  {
   "cell_type": "code",
   "execution_count": 64,
   "id": "b516e1b0",
   "metadata": {},
   "outputs": [
    {
     "data": {
      "text/plain": [
       "['liverRFC.pkl']"
      ]
     },
     "execution_count": 64,
     "metadata": {},
     "output_type": "execute_result"
    }
   ],
   "source": [
    "import joblib\n",
    "joblib.dump(pipeline_obj,'liverRFC.pkl')"
   ]
  },
  {
   "cell_type": "code",
   "execution_count": 113,
   "id": "490132a6",
   "metadata": {},
   "outputs": [],
   "source": [
    "temp={}\n",
    "temp['Age']=65\n",
    "temp['Gender']=0\n",
    "temp['Total_Bilirubin']=0.7\n",
    "temp['Direct_Bilirubin']=0.1\n",
    "temp['Alkaline_Phosphotase']=187\n",
    "temp['Alamine_Aminotransferase']=16\n",
    "temp['Aspartate_Aminotransferase']=18\n",
    "temp['Total_Protiens']=6.8\n",
    "temp['Albumin']=3.3\n",
    "temp['Albumin_and_Globulin_Ratio']=0.9"
   ]
  },
  {
   "cell_type": "code",
   "execution_count": 114,
   "id": "403134d7",
   "metadata": {},
   "outputs": [
    {
     "data": {
      "text/html": [
       "<div>\n",
       "<style scoped>\n",
       "    .dataframe tbody tr th:only-of-type {\n",
       "        vertical-align: middle;\n",
       "    }\n",
       "\n",
       "    .dataframe tbody tr th {\n",
       "        vertical-align: top;\n",
       "    }\n",
       "\n",
       "    .dataframe thead th {\n",
       "        text-align: right;\n",
       "    }\n",
       "</style>\n",
       "<table border=\"1\" class=\"dataframe\">\n",
       "  <thead>\n",
       "    <tr style=\"text-align: right;\">\n",
       "      <th></th>\n",
       "      <th>Age</th>\n",
       "      <th>Alamine_Aminotransferase</th>\n",
       "      <th>Albumin</th>\n",
       "      <th>Albumin_and_Globulin_Ratio</th>\n",
       "      <th>Alkaline_Phosphotase</th>\n",
       "      <th>Aspartate_Aminotransferase</th>\n",
       "      <th>Direct_Bilirubin</th>\n",
       "      <th>Gender</th>\n",
       "      <th>Total_Bilirubin</th>\n",
       "      <th>Total_Protiens</th>\n",
       "    </tr>\n",
       "  </thead>\n",
       "  <tbody>\n",
       "    <tr>\n",
       "      <th>x</th>\n",
       "      <td>65.0</td>\n",
       "      <td>16.0</td>\n",
       "      <td>3.3</td>\n",
       "      <td>0.9</td>\n",
       "      <td>187.0</td>\n",
       "      <td>18.0</td>\n",
       "      <td>0.1</td>\n",
       "      <td>0.0</td>\n",
       "      <td>0.7</td>\n",
       "      <td>6.8</td>\n",
       "    </tr>\n",
       "  </tbody>\n",
       "</table>\n",
       "</div>"
      ],
      "text/plain": [
       "    Age  Alamine_Aminotransferase  Albumin  Albumin_and_Globulin_Ratio  \\\n",
       "x  65.0                      16.0      3.3                         0.9   \n",
       "\n",
       "   Alkaline_Phosphotase  Aspartate_Aminotransferase  Direct_Bilirubin  Gender  \\\n",
       "x                 187.0                        18.0               0.1     0.0   \n",
       "\n",
       "   Total_Bilirubin  Total_Protiens  \n",
       "x              0.7             6.8  "
      ]
     },
     "execution_count": 114,
     "metadata": {},
     "output_type": "execute_result"
    }
   ],
   "source": [
    "testDtaa=pd.DataFrame({'x':temp}).transpose()\n",
    "testDtaa"
   ]
  },
  {
   "cell_type": "code",
   "execution_count": 115,
   "id": "8aa271d4",
   "metadata": {},
   "outputs": [
    {
     "name": "stdout",
     "output_type": "stream",
     "text": [
      "81.0 % possibility of having liver disease\n"
     ]
    }
   ],
   "source": [
    "loadliverRFC=joblib.load('liverRFC.pkl')\n",
    "print(loadliverRFC.predict(testDtaa)[0]*100,'% possibility of having liver disease')"
   ]
  }
 ],
 "metadata": {
  "kernelspec": {
   "display_name": "Python 3",
   "language": "python",
   "name": "python3"
  },
  "language_info": {
   "codemirror_mode": {
    "name": "ipython",
    "version": 3
   },
   "file_extension": ".py",
   "mimetype": "text/x-python",
   "name": "python",
   "nbconvert_exporter": "python",
   "pygments_lexer": "ipython3",
   "version": "3.9.1"
  }
 },
 "nbformat": 4,
 "nbformat_minor": 5
}
